{
 "cells": [
  {
   "cell_type": "markdown",
   "source": [],
   "metadata": {}
  },
  {
   "cell_type": "markdown",
   "source": [
    "# Importar datos"
   ],
   "metadata": {}
  },
  {
   "cell_type": "code",
   "execution_count": null,
   "source": [
    "\"\"\"!pip3 install torch==1.9.0+cu111 torchvision==0.10.0+cu111 torchaudio===0.9.0 -f https://download.pytorch.org/whl/torch_stable.html\r\n",
    "!pip install numpy\r\n",
    "!pip install pandas==1.3.2\r\n",
    "!pip install datasets\r\n",
    "!pip install transformers\r\n",
    "!pip install emoji\r\n",
    "!pip install plotly\"\"\"\r\n",
    "import torch\r\n",
    "torch.cuda.get_device_name(0)"
   ],
   "outputs": [],
   "metadata": {}
  },
  {
   "cell_type": "code",
   "execution_count": null,
   "source": [
    "import sys\r\n",
    "sys.path.insert(1, '../')\r\n",
    "from bin.TweetPreprocessor import TweetPreprocessor"
   ],
   "outputs": [],
   "metadata": {}
  },
  {
   "cell_type": "markdown",
   "source": [
    "# Preprocesador de tweets"
   ],
   "metadata": {}
  },
  {
   "cell_type": "code",
   "execution_count": null,
   "source": [
    "t = TweetPreprocessor(lang=\"en\")"
   ],
   "outputs": [],
   "metadata": {}
  },
  {
   "cell_type": "code",
   "execution_count": null,
   "source": [
    "t.preprocess(\"@perezjotaeme debería    cambiar esto http://bit.ly/sarasa 🎉😂\")"
   ],
   "outputs": [],
   "metadata": {}
  },
  {
   "cell_type": "markdown",
   "source": [
    "# Analizador de tweets"
   ],
   "metadata": {}
  },
  {
   "cell_type": "code",
   "execution_count": null,
   "source": [
    "TWEETS = [\r\n",
    "    \"Te esperamos con los brazos abiertos. Esta siempre es y será tu casa.\",\r\n",
    "    \"Simplemente limitate a observar su comportamiento, no tardará mucho https://bit.ly/3CsSkxH\",\r\n",
    "    \"Me tocó ver cosas que me dolían y sufrirlas como si no me importara @beidad345\",\r\n",
    "]"
   ],
   "outputs": [],
   "metadata": {}
  },
  {
   "cell_type": "markdown",
   "source": [
    "## Análisis de sentimiento"
   ],
   "metadata": {}
  },
  {
   "cell_type": "code",
   "execution_count": null,
   "source": [
    "from bin.TweetAnalyzer import TweetAnalyzer\r\n",
    "from bin.OutputFormatter import OutputFormatter"
   ],
   "outputs": [],
   "metadata": {}
  },
  {
   "cell_type": "code",
   "execution_count": null,
   "source": [
    "sa = TweetAnalyzer(analysis=\"sentiment\", lang=\"es\")"
   ],
   "outputs": [],
   "metadata": {}
  },
  {
   "cell_type": "code",
   "execution_count": null,
   "source": [
    "sa_pred1 = sa.predict(TWEETS[0])\r\n",
    "print(sa_pred1)\r\n",
    "sa_pred1.getTopClass()\r\n",
    "sa_pred1.labels"
   ],
   "outputs": [],
   "metadata": {}
  },
  {
   "cell_type": "code",
   "execution_count": null,
   "source": [
    "sa_pred2=sa.predict(TWEETS[1])\r\n",
    "print(sa_pred2)\r\n",
    "sa_pred2.labels"
   ],
   "outputs": [],
   "metadata": {}
  },
  {
   "cell_type": "code",
   "execution_count": null,
   "source": [
    "sa_pred3=sa.predict(TWEETS[2])\r\n",
    "print(sa_pred3)\r\n",
    "sa_pred3.labels"
   ],
   "outputs": [],
   "metadata": {}
  },
  {
   "cell_type": "code",
   "execution_count": null,
   "source": [
    "sa_pie = OutputFormatter.pie([sa_pred1, sa_pred2, sa_pred3])\r\n",
    "sa_pie.show()"
   ],
   "outputs": [],
   "metadata": {}
  },
  {
   "cell_type": "markdown",
   "source": [
    "## Análisis de emoción"
   ],
   "metadata": {}
  },
  {
   "cell_type": "code",
   "execution_count": null,
   "source": [
    "ea = TweetAnalyzer(analysis=\"emotion\", lang=\"es\")"
   ],
   "outputs": [],
   "metadata": {}
  },
  {
   "cell_type": "code",
   "execution_count": null,
   "source": [
    "ea_pred1=ea.predict(TWEETS[0])\r\n",
    "print(ea_pred1)\r\n",
    "ea_pred1.labels"
   ],
   "outputs": [],
   "metadata": {}
  },
  {
   "cell_type": "code",
   "execution_count": null,
   "source": [
    "ea_pred2=ea.predict(TWEETS[1])\r\n",
    "print(ea_pred2)\r\n",
    "ea_pred2.labels"
   ],
   "outputs": [],
   "metadata": {}
  },
  {
   "cell_type": "code",
   "execution_count": null,
   "source": [
    "ea_pred3=ea.predict(TWEETS[2])\r\n",
    "print(ea_pred3)\r\n",
    "ea_pred3.labels"
   ],
   "outputs": [],
   "metadata": {}
  },
  {
   "cell_type": "code",
   "execution_count": null,
   "source": [
    "ea_pie = OutputFormatter.pie([ea_pred1, ea_pred2, ea_pred3])\r\n",
    "ea_pie.show()"
   ],
   "outputs": [],
   "metadata": {}
  }
 ],
 "metadata": {
  "kernelspec": {
   "name": "python3",
   "display_name": "Python 3.8.10 64-bit ('env': venv)"
  },
  "language_info": {
   "codemirror_mode": {
    "name": "ipython",
    "version": 3
   },
   "file_extension": ".py",
   "mimetype": "text/x-python",
   "name": "python",
   "nbconvert_exporter": "python",
   "pygments_lexer": "ipython3",
   "version": "3.8.10"
  },
  "varInspector": {
   "cols": {
    "lenName": 16,
    "lenType": 16,
    "lenVar": 40
   },
   "kernels_config": {
    "python": {
     "delete_cmd_postfix": "",
     "delete_cmd_prefix": "del ",
     "library": "var_list.py",
     "varRefreshCmd": "print(var_dic_list())"
    },
    "r": {
     "delete_cmd_postfix": ") ",
     "delete_cmd_prefix": "rm(",
     "library": "var_list.r",
     "varRefreshCmd": "cat(var_dic_list()) "
    }
   },
   "types_to_exclude": [
    "module",
    "function",
    "builtin_function_or_method",
    "instance",
    "_Feature"
   ],
   "window_display": false
  },
  "interpreter": {
   "hash": "6d081599f4c97f844519c1e4e78189775e49503f76c317db521f31f3ddf68518"
  }
 },
 "nbformat": 4,
 "nbformat_minor": 5
}