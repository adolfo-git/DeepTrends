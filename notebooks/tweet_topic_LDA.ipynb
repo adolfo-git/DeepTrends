{
 "cells": [
  {
   "cell_type": "code",
   "execution_count": 1,
   "id": "e43ee9eb",
   "metadata": {},
   "outputs": [
    {
     "name": "stderr",
     "output_type": "stream",
     "text": [
      "c:\\users\\bisite\\anaconda3\\envs\\deeptrends\\lib\\site-packages\\IPython\\core\\interactiveshell.py:3441: FutureWarning: The error_bad_lines argument has been deprecated and will be removed in a future version.\n",
      "\n",
      "\n",
      "  exec(code_obj, self.user_global_ns, self.user_ns)\n"
     ]
    }
   ],
   "source": [
    "import pandas as pd\n",
    "data = pd.read_csv('abcnews-date-text.csv', error_bad_lines=False);\n",
    "data_text = data[['headline_text']]\n",
    "data_text['index'] = data_text.index\n",
    "documents = data_text"
   ]
  },
  {
   "cell_type": "code",
   "execution_count": 2,
   "id": "075eb9d0",
   "metadata": {},
   "outputs": [
    {
     "name": "stdout",
     "output_type": "stream",
     "text": [
      "1226258\n",
      "                                       headline_text  index\n",
      "0  aba decides against community broadcasting lic...      0\n",
      "1     act fire witnesses must be aware of defamation      1\n",
      "2     a g calls for infrastructure protection summit      2\n",
      "3           air nz staff in aust strike for pay rise      3\n",
      "4      air nz strike to affect australian travellers      4\n"
     ]
    }
   ],
   "source": [
    "print(len(documents))\n",
    "print(documents[:5])"
   ]
  },
  {
   "cell_type": "code",
   "execution_count": 3,
   "id": "a274e1cf",
   "metadata": {},
   "outputs": [
    {
     "name": "stderr",
     "output_type": "stream",
     "text": [
      "c:\\users\\bisite\\anaconda3\\envs\\deeptrends\\lib\\site-packages\\gensim\\similarities\\__init__.py:15: UserWarning: The gensim.similarities.levenshtein submodule is disabled, because the optional Levenshtein package <https://pypi.org/project/python-Levenshtein/> is unavailable. Install Levenhstein (e.g. `pip install python-Levenshtein`) to suppress this warning.\n",
      "  warnings.warn(msg)\n",
      "[nltk_data] Downloading package wordnet to\n",
      "[nltk_data]     C:\\Users\\BISITE\\AppData\\Roaming\\nltk_data...\n",
      "[nltk_data]   Package wordnet is already up-to-date!\n"
     ]
    },
    {
     "data": {
      "text/plain": [
       "True"
      ]
     },
     "execution_count": 3,
     "metadata": {},
     "output_type": "execute_result"
    }
   ],
   "source": [
    "import gensim\n",
    "from gensim.utils import simple_preprocess\n",
    "from gensim.parsing.preprocessing import STOPWORDS\n",
    "from nltk.stem import WordNetLemmatizer, SnowballStemmer\n",
    "from nltk.stem.porter import *\n",
    "import numpy as np\n",
    "np.random.seed(2018)\n",
    "import nltk\n",
    "nltk.download('wordnet')"
   ]
  },
  {
   "cell_type": "code",
   "execution_count": 4,
   "id": "5d7db995",
   "metadata": {},
   "outputs": [],
   "source": [
    "def lemmatize_stemming(text):\n",
    "    stemmer = SnowballStemmer(\"english\")\n",
    "    return stemmer.stem(WordNetLemmatizer().lemmatize(text, pos='v'))\n",
    "def preprocess(text):\n",
    "    result = []\n",
    "    for token in gensim.utils.simple_preprocess(text):\n",
    "        if token not in gensim.parsing.preprocessing.STOPWORDS and len(token) > 3:\n",
    "            result.append(lemmatize_stemming(token))\n",
    "    return result"
   ]
  },
  {
   "cell_type": "code",
   "execution_count": 5,
   "id": "79e43c16",
   "metadata": {},
   "outputs": [
    {
     "name": "stdout",
     "output_type": "stream",
     "text": [
      "original document: \n",
      "['ratepayers', 'group', 'wants', 'compulsory', 'local', 'govt', 'voting']\n",
      "\n",
      "\n",
      " tokenized and lemmatized document: \n",
      "['ratepay', 'group', 'want', 'compulsori', 'local', 'govt', 'vote']\n"
     ]
    }
   ],
   "source": [
    "doc_sample = documents[documents['index'] == 4310].values[0][0]\n",
    "print('original document: ')\n",
    "words = []\n",
    "for word in doc_sample.split(' '):\n",
    "    words.append(word)\n",
    "print(words)\n",
    "print('\\n\\n tokenized and lemmatized document: ')\n",
    "print(preprocess(doc_sample))"
   ]
  },
  {
   "cell_type": "code",
   "execution_count": 6,
   "id": "02a775ad",
   "metadata": {},
   "outputs": [
    {
     "data": {
      "text/plain": [
       "0            [decid, communiti, broadcast, licenc]\n",
       "1                               [wit, awar, defam]\n",
       "2           [call, infrastructur, protect, summit]\n",
       "3                      [staff, aust, strike, rise]\n",
       "4             [strike, affect, australian, travel]\n",
       "5               [ambiti, olsson, win, tripl, jump]\n",
       "6           [antic, delight, record, break, barca]\n",
       "7    [aussi, qualifi, stosur, wast, memphi, match]\n",
       "8            [aust, address, secur, council, iraq]\n",
       "9                         [australia, lock, timet]\n",
       "Name: headline_text, dtype: object"
      ]
     },
     "execution_count": 6,
     "metadata": {},
     "output_type": "execute_result"
    }
   ],
   "source": [
    "processed_docs = documents['headline_text'].map(preprocess)\n",
    "processed_docs[:10]"
   ]
  },
  {
   "cell_type": "code",
   "execution_count": 7,
   "id": "feb0220a",
   "metadata": {},
   "outputs": [
    {
     "name": "stdout",
     "output_type": "stream",
     "text": [
      "0 broadcast\n",
      "1 communiti\n",
      "2 decid\n",
      "3 licenc\n",
      "4 awar\n",
      "5 defam\n",
      "6 wit\n",
      "7 call\n",
      "8 infrastructur\n",
      "9 protect\n",
      "10 summit\n"
     ]
    }
   ],
   "source": [
    "dictionary = gensim.corpora.Dictionary(processed_docs)\n",
    "count = 0\n",
    "for k, v in dictionary.iteritems():\n",
    "    print(k, v)\n",
    "    count += 1\n",
    "    if count > 10:\n",
    "        break"
   ]
  },
  {
   "cell_type": "code",
   "execution_count": 8,
   "id": "78dc491e",
   "metadata": {},
   "outputs": [],
   "source": [
    "dictionary.filter_extremes(no_below=15, no_above=0.5, keep_n=100000)"
   ]
  },
  {
   "cell_type": "code",
   "execution_count": 9,
   "id": "380119c2",
   "metadata": {},
   "outputs": [
    {
     "data": {
      "text/plain": [
       "[(162, 1), (240, 1), (292, 1), (589, 1), (838, 1), (3570, 1), (3571, 1)]"
      ]
     },
     "execution_count": 9,
     "metadata": {},
     "output_type": "execute_result"
    }
   ],
   "source": [
    "bow_corpus = [dictionary.doc2bow(doc) for doc in processed_docs]\n",
    "bow_corpus[4310]"
   ]
  },
  {
   "cell_type": "code",
   "execution_count": 10,
   "id": "8b4eb93c",
   "metadata": {},
   "outputs": [
    {
     "name": "stdout",
     "output_type": "stream",
     "text": [
      "Word 162 (\"govt\") appears 1 time.\n",
      "Word 240 (\"group\") appears 1 time.\n",
      "Word 292 (\"vote\") appears 1 time.\n",
      "Word 589 (\"local\") appears 1 time.\n",
      "Word 838 (\"want\") appears 1 time.\n",
      "Word 3570 (\"compulsori\") appears 1 time.\n",
      "Word 3571 (\"ratepay\") appears 1 time.\n"
     ]
    }
   ],
   "source": [
    "bow_doc_4310 = bow_corpus[4310]\n",
    "for i in range(len(bow_doc_4310)):\n",
    "    print(\"Word {} (\\\"{}\\\") appears {} time.\".format(bow_doc_4310[i][0], \n",
    "                                               dictionary[bow_doc_4310[i][0]], \n",
    "bow_doc_4310[i][1]))"
   ]
  },
  {
   "cell_type": "code",
   "execution_count": 11,
   "id": "021b4d94",
   "metadata": {},
   "outputs": [
    {
     "name": "stdout",
     "output_type": "stream",
     "text": [
      "[(0, 0.5842699484464488),\n",
      " (1, 0.38798859072167835),\n",
      " (2, 0.5008422243250992),\n",
      " (3, 0.5071987254965034)]\n"
     ]
    }
   ],
   "source": [
    "from gensim import corpora, models\n",
    "tfidf = models.TfidfModel(bow_corpus)\n",
    "corpus_tfidf = tfidf[bow_corpus]\n",
    "from pprint import pprint\n",
    "for doc in corpus_tfidf:\n",
    "    pprint(doc)\n",
    "    break"
   ]
  },
  {
   "cell_type": "code",
   "execution_count": 12,
   "id": "340ade20",
   "metadata": {},
   "outputs": [],
   "source": [
    "lda_model = gensim.models.LdaMulticore(bow_corpus, num_topics=10, id2word=dictionary, passes=2, workers=2)"
   ]
  },
  {
   "cell_type": "code",
   "execution_count": 13,
   "id": "dcb230db",
   "metadata": {},
   "outputs": [
    {
     "name": "stdout",
     "output_type": "stream",
     "text": [
      "Topic: 0 \n",
      "Words: 0.026*\"death\" + 0.026*\"case\" + 0.025*\"charg\" + 0.025*\"court\" + 0.021*\"murder\" + 0.020*\"polic\" + 0.015*\"alleg\" + 0.013*\"trial\" + 0.012*\"arrest\" + 0.012*\"face\"\n",
      "Topic: 1 \n",
      "Words: 0.022*\"news\" + 0.020*\"market\" + 0.017*\"world\" + 0.017*\"women\" + 0.015*\"australian\" + 0.015*\"final\" + 0.014*\"island\" + 0.012*\"return\" + 0.011*\"street\" + 0.010*\"fall\"\n",
      "Topic: 2 \n",
      "Words: 0.066*\"coronavirus\" + 0.037*\"covid\" + 0.024*\"live\" + 0.021*\"nation\" + 0.020*\"coast\" + 0.016*\"restrict\" + 0.014*\"water\" + 0.012*\"gold\" + 0.011*\"plan\" + 0.010*\"park\"\n",
      "Topic: 3 \n",
      "Words: 0.039*\"sydney\" + 0.026*\"polic\" + 0.021*\"crash\" + 0.020*\"adelaid\" + 0.019*\"die\" + 0.015*\"miss\" + 0.012*\"break\" + 0.011*\"drug\" + 0.011*\"driver\" + 0.010*\"shoot\"\n",
      "Topic: 4 \n",
      "Words: 0.038*\"year\" + 0.031*\"melbourn\" + 0.022*\"open\" + 0.021*\"canberra\" + 0.017*\"jail\" + 0.015*\"work\" + 0.014*\"high\" + 0.014*\"life\" + 0.013*\"offic\" + 0.013*\"interview\"\n",
      "Topic: 5 \n",
      "Words: 0.029*\"govern\" + 0.020*\"health\" + 0.019*\"school\" + 0.017*\"help\" + 0.016*\"chang\" + 0.015*\"feder\" + 0.013*\"indigen\" + 0.012*\"state\" + 0.012*\"communiti\" + 0.012*\"fund\"\n",
      "Topic: 6 \n",
      "Words: 0.070*\"australia\" + 0.044*\"trump\" + 0.024*\"donald\" + 0.017*\"elect\" + 0.016*\"border\" + 0.015*\"busi\" + 0.015*\"peopl\" + 0.014*\"accus\" + 0.013*\"say\" + 0.012*\"scott\"\n",
      "Topic: 7 \n",
      "Words: 0.042*\"queensland\" + 0.034*\"victoria\" + 0.022*\"bushfir\" + 0.022*\"hous\" + 0.014*\"time\" + 0.013*\"royal\" + 0.012*\"west\" + 0.012*\"price\" + 0.011*\"guilti\" + 0.011*\"commiss\"\n",
      "Topic: 8 \n",
      "Words: 0.031*\"china\" + 0.026*\"test\" + 0.022*\"coronavirus\" + 0.020*\"south\" + 0.013*\"north\" + 0.012*\"australian\" + 0.012*\"rural\" + 0.011*\"presid\" + 0.011*\"train\" + 0.011*\"minist\"\n",
      "Topic: 9 \n",
      "Words: 0.025*\"tasmania\" + 0.025*\"call\" + 0.020*\"rise\" + 0.019*\"victorian\" + 0.017*\"morrison\" + 0.017*\"tasmanian\" + 0.015*\"million\" + 0.015*\"farm\" + 0.011*\"program\" + 0.011*\"claim\"\n"
     ]
    }
   ],
   "source": [
    "for idx, topic in lda_model.print_topics(-1):\n",
    "    print('Topic: {} \\nWords: {}'.format(idx, topic))"
   ]
  },
  {
   "cell_type": "code",
   "execution_count": 14,
   "id": "31366ff2",
   "metadata": {},
   "outputs": [
    {
     "name": "stdout",
     "output_type": "stream",
     "text": [
      "Topic: 0 Word: 0.010*\"guilti\" + 0.010*\"morrison\" + 0.010*\"weather\" + 0.009*\"monday\" + 0.009*\"border\" + 0.009*\"kill\" + 0.008*\"violenc\" + 0.008*\"christma\" + 0.007*\"bushfir\" + 0.007*\"juli\"\n",
      "Topic: 1 Word: 0.033*\"trump\" + 0.019*\"donald\" + 0.009*\"wednesday\" + 0.008*\"hill\" + 0.008*\"care\" + 0.008*\"age\" + 0.007*\"lockdown\" + 0.007*\"peter\" + 0.007*\"alan\" + 0.007*\"social\"\n",
      "Topic: 2 Word: 0.011*\"world\" + 0.010*\"scott\" + 0.009*\"australia\" + 0.009*\"thursday\" + 0.008*\"john\" + 0.008*\"leagu\" + 0.007*\"cricket\" + 0.006*\"daniel\" + 0.006*\"win\" + 0.005*\"celebr\"\n",
      "Topic: 3 Word: 0.018*\"polic\" + 0.016*\"charg\" + 0.015*\"murder\" + 0.011*\"court\" + 0.011*\"alleg\" + 0.011*\"woman\" + 0.010*\"death\" + 0.009*\"jail\" + 0.009*\"arrest\" + 0.008*\"sentenc\"\n",
      "Topic: 4 Word: 0.012*\"elect\" + 0.011*\"govern\" + 0.009*\"labor\" + 0.008*\"andrew\" + 0.007*\"liber\" + 0.007*\"say\" + 0.007*\"michael\" + 0.007*\"royal\" + 0.007*\"turnbul\" + 0.006*\"commiss\"\n",
      "Topic: 5 Word: 0.014*\"countri\" + 0.010*\"hour\" + 0.009*\"restrict\" + 0.009*\"health\" + 0.009*\"coronavirus\" + 0.007*\"climat\" + 0.007*\"chang\" + 0.006*\"mental\" + 0.006*\"fund\" + 0.006*\"farmer\"\n",
      "Topic: 6 Word: 0.009*\"friday\" + 0.009*\"crash\" + 0.007*\"coronavirus\" + 0.007*\"australia\" + 0.007*\"pandem\" + 0.006*\"rugbi\" + 0.006*\"shark\" + 0.006*\"insid\" + 0.006*\"zealand\" + 0.006*\"final\"\n",
      "Topic: 7 Word: 0.011*\"north\" + 0.009*\"coast\" + 0.008*\"sport\" + 0.007*\"park\" + 0.007*\"david\" + 0.006*\"search\" + 0.006*\"korea\" + 0.006*\"island\" + 0.006*\"hobart\" + 0.006*\"aborigin\"\n",
      "Topic: 8 Word: 0.019*\"drum\" + 0.012*\"tuesday\" + 0.011*\"financ\" + 0.007*\"jam\" + 0.007*\"william\" + 0.006*\"wast\" + 0.006*\"cancer\" + 0.006*\"whale\" + 0.006*\"open\" + 0.005*\"decemb\"\n",
      "Topic: 9 Word: 0.023*\"coronavirus\" + 0.018*\"covid\" + 0.016*\"news\" + 0.015*\"market\" + 0.012*\"live\" + 0.011*\"rural\" + 0.008*\"australian\" + 0.007*\"australia\" + 0.007*\"share\" + 0.006*\"busi\"\n"
     ]
    }
   ],
   "source": [
    "lda_model_tfidf = gensim.models.LdaMulticore(corpus_tfidf, num_topics=10, id2word=dictionary, passes=2, workers=4)\n",
    "for idx, topic in lda_model_tfidf.print_topics(-1):\n",
    "    print('Topic: {} Word: {}'.format(idx, topic))"
   ]
  },
  {
   "cell_type": "code",
   "execution_count": 15,
   "id": "3aec98ae",
   "metadata": {},
   "outputs": [
    {
     "data": {
      "text/plain": [
       "['ratepay', 'group', 'want', 'compulsori', 'local', 'govt', 'vote']"
      ]
     },
     "execution_count": 15,
     "metadata": {},
     "output_type": "execute_result"
    }
   ],
   "source": [
    "processed_docs[4310]"
   ]
  },
  {
   "cell_type": "code",
   "execution_count": 16,
   "id": "6b478a2b",
   "metadata": {},
   "outputs": [
    {
     "name": "stdout",
     "output_type": "stream",
     "text": [
      "\n",
      "Score: 0.41032394766807556\t \n",
      "Topic: 0.029*\"govern\" + 0.020*\"health\" + 0.019*\"school\" + 0.017*\"help\" + 0.016*\"chang\" + 0.015*\"feder\" + 0.013*\"indigen\" + 0.012*\"state\" + 0.012*\"communiti\" + 0.012*\"fund\"\n",
      "\n",
      "Score: 0.3498636782169342\t \n",
      "Topic: 0.025*\"tasmania\" + 0.025*\"call\" + 0.020*\"rise\" + 0.019*\"victorian\" + 0.017*\"morrison\" + 0.017*\"tasmanian\" + 0.015*\"million\" + 0.015*\"farm\" + 0.011*\"program\" + 0.011*\"claim\"\n",
      "\n",
      "Score: 0.15228082239627838\t \n",
      "Topic: 0.070*\"australia\" + 0.044*\"trump\" + 0.024*\"donald\" + 0.017*\"elect\" + 0.016*\"border\" + 0.015*\"busi\" + 0.015*\"peopl\" + 0.014*\"accus\" + 0.013*\"say\" + 0.012*\"scott\"\n",
      "\n",
      "Score: 0.01250617578625679\t \n",
      "Topic: 0.066*\"coronavirus\" + 0.037*\"covid\" + 0.024*\"live\" + 0.021*\"nation\" + 0.020*\"coast\" + 0.016*\"restrict\" + 0.014*\"water\" + 0.012*\"gold\" + 0.011*\"plan\" + 0.010*\"park\"\n",
      "\n",
      "Score: 0.012504493817687035\t \n",
      "Topic: 0.038*\"year\" + 0.031*\"melbourn\" + 0.022*\"open\" + 0.021*\"canberra\" + 0.017*\"jail\" + 0.015*\"work\" + 0.014*\"high\" + 0.014*\"life\" + 0.013*\"offic\" + 0.013*\"interview\"\n",
      "\n",
      "Score: 0.012504441663622856\t \n",
      "Topic: 0.031*\"china\" + 0.026*\"test\" + 0.022*\"coronavirus\" + 0.020*\"south\" + 0.013*\"north\" + 0.012*\"australian\" + 0.012*\"rural\" + 0.011*\"presid\" + 0.011*\"train\" + 0.011*\"minist\"\n",
      "\n",
      "Score: 0.01250431127846241\t \n",
      "Topic: 0.042*\"queensland\" + 0.034*\"victoria\" + 0.022*\"bushfir\" + 0.022*\"hous\" + 0.014*\"time\" + 0.013*\"royal\" + 0.012*\"west\" + 0.012*\"price\" + 0.011*\"guilti\" + 0.011*\"commiss\"\n",
      "\n",
      "Score: 0.012504054233431816\t \n",
      "Topic: 0.026*\"death\" + 0.026*\"case\" + 0.025*\"charg\" + 0.025*\"court\" + 0.021*\"murder\" + 0.020*\"polic\" + 0.015*\"alleg\" + 0.013*\"trial\" + 0.012*\"arrest\" + 0.012*\"face\"\n",
      "\n",
      "Score: 0.012504054233431816\t \n",
      "Topic: 0.022*\"news\" + 0.020*\"market\" + 0.017*\"world\" + 0.017*\"women\" + 0.015*\"australian\" + 0.015*\"final\" + 0.014*\"island\" + 0.012*\"return\" + 0.011*\"street\" + 0.010*\"fall\"\n",
      "\n",
      "Score: 0.012504054233431816\t \n",
      "Topic: 0.039*\"sydney\" + 0.026*\"polic\" + 0.021*\"crash\" + 0.020*\"adelaid\" + 0.019*\"die\" + 0.015*\"miss\" + 0.012*\"break\" + 0.011*\"drug\" + 0.011*\"driver\" + 0.010*\"shoot\"\n"
     ]
    }
   ],
   "source": [
    "for index, score in sorted(lda_model[bow_corpus[4310]], key=lambda tup: -1*tup[1]):\n",
    "    print(\"\\nScore: {}\\t \\nTopic: {}\".format(score, lda_model.print_topic(index, 10)))"
   ]
  },
  {
   "cell_type": "code",
   "execution_count": 17,
   "id": "15b0eee5",
   "metadata": {},
   "outputs": [
    {
     "name": "stdout",
     "output_type": "stream",
     "text": [
      "\n",
      "Score: 0.4782187342643738\t \n",
      "Topic: 0.012*\"elect\" + 0.011*\"govern\" + 0.009*\"labor\" + 0.008*\"andrew\" + 0.007*\"liber\" + 0.007*\"say\" + 0.007*\"michael\" + 0.007*\"royal\" + 0.007*\"turnbul\" + 0.006*\"commiss\"\n",
      "\n",
      "Score: 0.4217502474784851\t \n",
      "Topic: 0.014*\"countri\" + 0.010*\"hour\" + 0.009*\"restrict\" + 0.009*\"health\" + 0.009*\"coronavirus\" + 0.007*\"climat\" + 0.007*\"chang\" + 0.006*\"mental\" + 0.006*\"fund\" + 0.006*\"farmer\"\n",
      "\n",
      "Score: 0.012504912912845612\t \n",
      "Topic: 0.023*\"coronavirus\" + 0.018*\"covid\" + 0.016*\"news\" + 0.015*\"market\" + 0.012*\"live\" + 0.011*\"rural\" + 0.008*\"australian\" + 0.007*\"australia\" + 0.007*\"share\" + 0.006*\"busi\"\n",
      "\n",
      "Score: 0.01250439416617155\t \n",
      "Topic: 0.011*\"north\" + 0.009*\"coast\" + 0.008*\"sport\" + 0.007*\"park\" + 0.007*\"david\" + 0.006*\"search\" + 0.006*\"korea\" + 0.006*\"island\" + 0.006*\"hobart\" + 0.006*\"aborigin\"\n",
      "\n",
      "Score: 0.012504267506301403\t \n",
      "Topic: 0.033*\"trump\" + 0.019*\"donald\" + 0.009*\"wednesday\" + 0.008*\"hill\" + 0.008*\"care\" + 0.008*\"age\" + 0.007*\"lockdown\" + 0.007*\"peter\" + 0.007*\"alan\" + 0.007*\"social\"\n",
      "\n",
      "Score: 0.012503715232014656\t \n",
      "Topic: 0.010*\"guilti\" + 0.010*\"morrison\" + 0.010*\"weather\" + 0.009*\"monday\" + 0.009*\"border\" + 0.009*\"kill\" + 0.008*\"violenc\" + 0.008*\"christma\" + 0.007*\"bushfir\" + 0.007*\"juli\"\n",
      "\n",
      "Score: 0.012503581121563911\t \n",
      "Topic: 0.019*\"drum\" + 0.012*\"tuesday\" + 0.011*\"financ\" + 0.007*\"jam\" + 0.007*\"william\" + 0.006*\"wast\" + 0.006*\"cancer\" + 0.006*\"whale\" + 0.006*\"open\" + 0.005*\"decemb\"\n",
      "\n",
      "Score: 0.012503494508564472\t \n",
      "Topic: 0.011*\"world\" + 0.010*\"scott\" + 0.009*\"australia\" + 0.009*\"thursday\" + 0.008*\"john\" + 0.008*\"leagu\" + 0.007*\"cricket\" + 0.006*\"daniel\" + 0.006*\"win\" + 0.005*\"celebr\"\n",
      "\n",
      "Score: 0.012503450736403465\t \n",
      "Topic: 0.018*\"polic\" + 0.016*\"charg\" + 0.015*\"murder\" + 0.011*\"court\" + 0.011*\"alleg\" + 0.011*\"woman\" + 0.010*\"death\" + 0.009*\"jail\" + 0.009*\"arrest\" + 0.008*\"sentenc\"\n",
      "\n",
      "Score: 0.012503220699727535\t \n",
      "Topic: 0.009*\"friday\" + 0.009*\"crash\" + 0.007*\"coronavirus\" + 0.007*\"australia\" + 0.007*\"pandem\" + 0.006*\"rugbi\" + 0.006*\"shark\" + 0.006*\"insid\" + 0.006*\"zealand\" + 0.006*\"final\"\n"
     ]
    }
   ],
   "source": [
    "for index, score in sorted(lda_model_tfidf[bow_corpus[4310]], key=lambda tup: -1*tup[1]):\n",
    "    print(\"\\nScore: {}\\t \\nTopic: {}\".format(score, lda_model_tfidf.print_topic(index, 10)))"
   ]
  },
  {
   "cell_type": "code",
   "execution_count": 18,
   "id": "230a097d",
   "metadata": {},
   "outputs": [
    {
     "name": "stdout",
     "output_type": "stream",
     "text": [
      "Score: 0.3498365581035614\t Topic: 0.026*\"death\" + 0.026*\"case\" + 0.025*\"charg\" + 0.025*\"court\" + 0.021*\"murder\"\n",
      "Score: 0.34103986620903015\t Topic: 0.022*\"news\" + 0.020*\"market\" + 0.017*\"world\" + 0.017*\"women\" + 0.015*\"australian\"\n",
      "Score: 0.19239242374897003\t Topic: 0.042*\"queensland\" + 0.034*\"victoria\" + 0.022*\"bushfir\" + 0.022*\"hous\" + 0.014*\"time\"\n",
      "Score: 0.016683056950569153\t Topic: 0.031*\"china\" + 0.026*\"test\" + 0.022*\"coronavirus\" + 0.020*\"south\" + 0.013*\"north\"\n",
      "Score: 0.016676587983965874\t Topic: 0.025*\"tasmania\" + 0.025*\"call\" + 0.020*\"rise\" + 0.019*\"victorian\" + 0.017*\"morrison\"\n",
      "Score: 0.016675863415002823\t Topic: 0.029*\"govern\" + 0.020*\"health\" + 0.019*\"school\" + 0.017*\"help\" + 0.016*\"chang\"\n",
      "Score: 0.0166756771504879\t Topic: 0.066*\"coronavirus\" + 0.037*\"covid\" + 0.024*\"live\" + 0.021*\"nation\" + 0.020*\"coast\"\n",
      "Score: 0.016673309728503227\t Topic: 0.039*\"sydney\" + 0.026*\"polic\" + 0.021*\"crash\" + 0.020*\"adelaid\" + 0.019*\"die\"\n",
      "Score: 0.016673309728503227\t Topic: 0.038*\"year\" + 0.031*\"melbourn\" + 0.022*\"open\" + 0.021*\"canberra\" + 0.017*\"jail\"\n",
      "Score: 0.016673309728503227\t Topic: 0.070*\"australia\" + 0.044*\"trump\" + 0.024*\"donald\" + 0.017*\"elect\" + 0.016*\"border\"\n"
     ]
    }
   ],
   "source": [
    "unseen_document = 'How a Pentagon deal became an identity crisis for Google'\n",
    "bow_vector = dictionary.doc2bow(preprocess(unseen_document))\n",
    "for index, score in sorted(lda_model[bow_vector], key=lambda tup: -1*tup[1]):\n",
    "    print(\"Score: {}\\t Topic: {}\".format(score, lda_model.print_topic(index, 5)))"
   ]
  },
  {
   "cell_type": "code",
   "execution_count": null,
   "id": "1cff2698",
   "metadata": {},
   "outputs": [],
   "source": []
  }
 ],
 "metadata": {
  "kernelspec": {
   "display_name": "Python 3 (ipykernel)",
   "language": "python",
   "name": "python3"
  },
  "language_info": {
   "codemirror_mode": {
    "name": "ipython",
    "version": 3
   },
   "file_extension": ".py",
   "mimetype": "text/x-python",
   "name": "python",
   "nbconvert_exporter": "python",
   "pygments_lexer": "ipython3",
   "version": "3.8.10"
  },
  "varInspector": {
   "cols": {
    "lenName": 16,
    "lenType": 16,
    "lenVar": 40
   },
   "kernels_config": {
    "python": {
     "delete_cmd_postfix": "",
     "delete_cmd_prefix": "del ",
     "library": "var_list.py",
     "varRefreshCmd": "print(var_dic_list())"
    },
    "r": {
     "delete_cmd_postfix": ") ",
     "delete_cmd_prefix": "rm(",
     "library": "var_list.r",
     "varRefreshCmd": "cat(var_dic_list()) "
    }
   },
   "types_to_exclude": [
    "module",
    "function",
    "builtin_function_or_method",
    "instance",
    "_Feature"
   ],
   "window_display": false
  }
 },
 "nbformat": 4,
 "nbformat_minor": 5
}
